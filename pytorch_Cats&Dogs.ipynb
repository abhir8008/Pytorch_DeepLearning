{
  "cells": [
    {
      "cell_type": "markdown",
      "metadata": {
        "id": "view-in-github",
        "colab_type": "text"
      },
      "source": [
        "<a href=\"https://colab.research.google.com/github/abhir8008/Pytorch_DeepLearning/blob/master/pytorch_Cats%26Dogs.ipynb\" target=\"_parent\"><img src=\"https://colab.research.google.com/assets/colab-badge.svg\" alt=\"Open In Colab\"/></a>"
      ]
    },
    {
      "cell_type": "code",
      "execution_count": null,
      "metadata": {
        "colab": {
          "base_uri": "https://localhost:8080/",
          "height": 35
        },
        "id": "N4WwsHjLJLRz",
        "outputId": "40d9303d-7e28-4a81-a56d-c443c055be83"
      },
      "outputs": [
        {
          "output_type": "execute_result",
          "data": {
            "text/plain": [
              "\"\\nfrom google.colab import drive\\ndrive.mount('/content/drive')\\n\""
            ],
            "application/vnd.google.colaboratory.intrinsic+json": {
              "type": "string"
            }
          },
          "metadata": {},
          "execution_count": 1
        }
      ],
      "source": [
        "'''\n",
        "from google.colab import drive\n",
        "drive.mount('/content/drive')\n",
        "'''"
      ]
    },
    {
      "cell_type": "code",
      "execution_count": null,
      "metadata": {
        "id": "pusxrC1SCxv4"
      },
      "outputs": [],
      "source": [
        "import os\n",
        "import torch\n",
        "import torchvision\n",
        "import tarfile\n",
        "from torchvision.datasets.utils import download_url\n",
        "import cv2"
      ]
    },
    {
      "cell_type": "code",
      "execution_count": null,
      "metadata": {
        "colab": {
          "base_uri": "https://localhost:8080/",
          "height": 87
        },
        "id": "Jw90AcLfKm5g",
        "outputId": "dab01851-f677-406e-96c3-1a956e1b9826"
      },
      "outputs": [
        {
          "output_type": "execute_result",
          "data": {
            "text/plain": [
              "'\\nprint(os.listdir(\"/content/drive/MyDrive/AI/CATS_DOGS/test\"))\\nprint(len(os.listdir(\"/content/drive/MyDrive/AI/CATS_DOGS/train\")))\\n#print(os.listdir(\"/content/drive/MyDrive/AI/CATS_DOGS/train/CAT\"))\\nprint(len(os.listdir(\"/content/drive/MyDrive/AI/CATS_DOGS/train/CAT\")))\\n\\nimg = cv2.imread(\\'/content/drive/MyDrive/AI/CATS_DOGS/train/CAT/1.jpg\\')\\nimg = cv2.cvtColor(img,cv2.COLOR_BGR2RGB)\\nimg.shape\\n'"
            ],
            "application/vnd.google.colaboratory.intrinsic+json": {
              "type": "string"
            }
          },
          "metadata": {},
          "execution_count": 3
        }
      ],
      "source": [
        "'''\n",
        "print(os.listdir(\"/content/drive/MyDrive/AI/CATS_DOGS/test\"))\n",
        "print(len(os.listdir(\"/content/drive/MyDrive/AI/CATS_DOGS/train\")))\n",
        "#print(os.listdir(\"/content/drive/MyDrive/AI/CATS_DOGS/train/CAT\"))\n",
        "print(len(os.listdir(\"/content/drive/MyDrive/AI/CATS_DOGS/train/CAT\")))\n",
        "\n",
        "img = cv2.imread('/content/drive/MyDrive/AI/CATS_DOGS/train/CAT/1.jpg')\n",
        "img = cv2.cvtColor(img,cv2.COLOR_BGR2RGB)\n",
        "img.shape\n",
        "'''"
      ]
    },
    {
      "cell_type": "code",
      "execution_count": null,
      "metadata": {
        "id": "uHPKir-FK6I0"
      },
      "outputs": [],
      "source": [
        "from torchvision.datasets import ImageFolder\n",
        "from torchvision.transforms import ToTensor\n",
        "import torchvision.transforms as transforms\n",
        "from torchvision.utils import save_image"
      ]
    },
    {
      "cell_type": "code",
      "execution_count": null,
      "metadata": {
        "colab": {
          "base_uri": "https://localhost:8080/",
          "height": 157
        },
        "id": "1wz0rJITN5oF",
        "outputId": "c52b9c9c-e45c-4e04-962d-1de1937eb8ad"
      },
      "outputs": [
        {
          "output_type": "execute_result",
          "data": {
            "text/plain": [
              "'\\nfrom torchvision.transforms.transforms import RandomGrayscale\\n# Compose is for Composes several transforms together of dataset and \\nmy_transforms = transforms.Compose([\\n                                    transforms.Resize((256,256)),\\n                                    transforms.RandomCrop((256,256)),\\n                                    transforms.ColorJitter(brightness = 0.5),\\n                                    transforms.RandomRotation(degrees = 45),\\n                                    transforms.RandomHorizontalFlip(p = 0.5),\\n                                    transforms.RandomVerticalFlip(p = 0.05),\\n                                    transforms.RandomGrayscale( p =0.2),\\n                                    transforms.ToTensor()\\n                                    ])\\n# transforms.Normalize(mean = [0.0,0.0,0.0],std = [1.0,1.0,1.0]) add this after transforms.ToTensor()\\n# transforms.ToPILImage(), but it will not work as it tarnsform image in PIL \\n\\ndatasets = ImageFolder(\"/content/drive/MyDrive/AI/CATS_DOGS/test\",transform = my_transforms)\\n# datasets = ImageFolder(\"/content/drive/MyDrive/AI/CATS_DOGS/test\",transform = ToTensor())\\ndatasets\\n'"
            ],
            "application/vnd.google.colaboratory.intrinsic+json": {
              "type": "string"
            }
          },
          "metadata": {},
          "execution_count": 5
        }
      ],
      "source": [
        "'''\n",
        "from torchvision.transforms.transforms import RandomGrayscale\n",
        "# Compose is for Composes several transforms together of dataset and \n",
        "my_transforms = transforms.Compose([\n",
        "                                    transforms.Resize((256,256)),\n",
        "                                    transforms.RandomCrop((256,256)),\n",
        "                                    transforms.ColorJitter(brightness = 0.5),\n",
        "                                    transforms.RandomRotation(degrees = 45),\n",
        "                                    transforms.RandomHorizontalFlip(p = 0.5),\n",
        "                                    transforms.RandomVerticalFlip(p = 0.05),\n",
        "                                    transforms.RandomGrayscale( p =0.2),\n",
        "                                    transforms.ToTensor()\n",
        "                                    ])\n",
        "# transforms.Normalize(mean = [0.0,0.0,0.0],std = [1.0,1.0,1.0]) add this after transforms.ToTensor()\n",
        "# transforms.ToPILImage(), but it will not work as it tarnsform image in PIL \n",
        "\n",
        "datasets = ImageFolder(\"/content/drive/MyDrive/AI/CATS_DOGS/test\",transform = my_transforms)\n",
        "# datasets = ImageFolder(\"/content/drive/MyDrive/AI/CATS_DOGS/test\",transform = ToTensor())\n",
        "datasets\n",
        "'''"
      ]
    },
    {
      "cell_type": "code",
      "source": [
        "from torchvision.transforms.transforms import RandomGrayscale\n",
        "# Compose is for Composes several transforms together of dataset and \n",
        "my_transforms = transforms.Compose([\n",
        "                                    transforms.Resize((256,256)),\n",
        "                                    transforms.CenterCrop((224,224)),\n",
        "                                    transforms.ToTensor(),\n",
        "                                    ])\n",
        "# transforms.Normalize(mean = [0.485, 0.456, 0.406],std = [0.229,0.224,0.225]) add this after transforms.ToTensor()\n",
        "# transforms.ToPILImage(), but it will not work as it tarnsform image in PIL \n",
        "\n",
        "datasets = ImageFolder(\"/content/drive/MyDrive/AI/CATS_DOGS/train\",transform = my_transforms)\n",
        "# datasets = ImageFolder(\"/content/drive/MyDrive/AI/CATS_DOGS/test\",transform = ToTensor())\n",
        "datasets"
      ],
      "metadata": {
        "colab": {
          "base_uri": "https://localhost:8080/"
        },
        "id": "l_ECSe_xbjYk",
        "outputId": "fa22cbbf-6bbe-4329-b6a5-382ef8f943cb"
      },
      "execution_count": null,
      "outputs": [
        {
          "output_type": "execute_result",
          "data": {
            "text/plain": [
              "Dataset ImageFolder\n",
              "    Number of datapoints: 18743\n",
              "    Root location: /content/drive/MyDrive/AI/CATS_DOGS/train\n",
              "    StandardTransform\n",
              "Transform: Compose(\n",
              "               Resize(size=(256, 256), interpolation=bilinear, max_size=None, antialias=None)\n",
              "               CenterCrop(size=(224, 224))\n",
              "               ToTensor()\n",
              "           )"
            ]
          },
          "metadata": {},
          "execution_count": 6
        }
      ]
    },
    {
      "cell_type": "code",
      "execution_count": null,
      "metadata": {
        "colab": {
          "base_uri": "https://localhost:8080/",
          "height": 53
        },
        "id": "e_IbULIoOIry",
        "outputId": "11dac9d5-0922-4e59-a100-d43a02a44ac3"
      },
      "outputs": [
        {
          "output_type": "execute_result",
          "data": {
            "text/plain": [
              "'\\nimg,label = datasets[0]\\nprint(img.shape,label)\\nimg\\n# torch.Size([3, 150, 97]) 1 = [RGB,height,width] 0/1 == cat/dog\\n'"
            ],
            "application/vnd.google.colaboratory.intrinsic+json": {
              "type": "string"
            }
          },
          "metadata": {},
          "execution_count": 7
        }
      ],
      "source": [
        "'''\n",
        "img,label = datasets[0]\n",
        "print(img.shape,label)\n",
        "img\n",
        "# torch.Size([3, 150, 97]) 1 = [RGB,height,width] 0/1 == cat/dog\n",
        "'''"
      ]
    },
    {
      "cell_type": "code",
      "execution_count": null,
      "metadata": {
        "colab": {
          "base_uri": "https://localhost:8080/"
        },
        "id": "UxfCeK9eOlmy",
        "outputId": "d0662002-466b-4325-bb45-b40293ff073e"
      },
      "outputs": [
        {
          "output_type": "stream",
          "name": "stdout",
          "text": [
            "['CAT', 'DOG']\n",
            "2\n"
          ]
        }
      ],
      "source": [
        "print(datasets.classes)\n",
        "print(len(datasets.classes))"
      ]
    },
    {
      "cell_type": "code",
      "execution_count": null,
      "metadata": {
        "id": "4V2YgkbqOzWr"
      },
      "outputs": [],
      "source": [
        "import matplotlib.pyplot as plt\n",
        "\n",
        "def show_example(img,label):\n",
        "  print('Label: ',datasets.classes[label])\n",
        "  plt.imshow(img.permute(1,2,0))"
      ]
    },
    {
      "cell_type": "code",
      "execution_count": null,
      "metadata": {
        "colab": {
          "base_uri": "https://localhost:8080/",
          "height": 286
        },
        "id": "T6C53YUfQw5h",
        "outputId": "40a15375-fa5b-4b7e-8b52-ee1a445eacad"
      },
      "outputs": [
        {
          "output_type": "stream",
          "name": "stdout",
          "text": [
            "Label:  CAT\n"
          ]
        },
        {
          "output_type": "display_data",
          "data": {
            "text/plain": [
              "<Figure size 432x288 with 1 Axes>"
            ],
            "image/png": "[encoded data removed]"
          },
          "metadata": {
            "needs_background": "light"
          }
        }
      ],
      "source": [
        "'''\n",
        "for i in range(10):\n",
        "'''\n",
        "show_example(*datasets[5000])\n"
      ]
    },
    {
      "cell_type": "code",
      "execution_count": null,
      "metadata": {
        "id": "rhtQ4dENRHiY"
      },
      "outputs": [],
      "source": [
        "import numpy as np\n",
        "def split_indices(n, val_pct=0.1 , seed = 99):\n",
        "  #Determine size of validation set\n",
        "  n_val = int(val_pct * n)\n",
        "  print(n_val)\n",
        "  #set the random seed (for reproducibility)\n",
        "  np.random.seed(seed)\n",
        "  #Create random permutation of 0 to n-1\n",
        "  idxs = np.random.permutation(n)\n",
        "  #pick first n_val indices for validation set\n",
        "  return idxs[n_val:], idxs[:n_val]\n"
      ]
    },
    {
      "cell_type": "code",
      "execution_count": null,
      "metadata": {
        "colab": {
          "base_uri": "https://localhost:8080/"
        },
        "id": "xu5f-X2-Uuxb",
        "outputId": "99eaa602-7b45-486e-f65c-41626c40da8b"
      },
      "outputs": [
        {
          "output_type": "stream",
          "name": "stdout",
          "text": [
            "3748\n",
            "14995 3748\n",
            "sample validation indices:  [ 5860  4724 16937 13730  3458  4863  8116 10952 11243 16439]\n"
          ]
        }
      ],
      "source": [
        "val_pct = 0.2\n",
        "rand_seed = 42\n",
        "\n",
        "train_indices,val_indices = split_indices(len(datasets),val_pct,rand_seed)\n",
        "print(len(train_indices), len(val_indices))\n",
        "print('sample validation indices: ', val_indices[:10])\n",
        "#print('sample validation indices: ', val_indices[:len(val_indices)])"
      ]
    },
    {
      "cell_type": "code",
      "execution_count": null,
      "metadata": {
        "id": "NEbmMnMfU45S"
      },
      "outputs": [],
      "source": [
        "from torch.utils.data.sampler import SubsetRandomSampler\n",
        "from torch.utils.data.dataloader import DataLoader\n",
        "\n",
        "batch_size = 64"
      ]
    },
    {
      "cell_type": "code",
      "execution_count": null,
      "metadata": {
        "id": "K6Q3kruVirra"
      },
      "outputs": [],
      "source": [
        "train_sampler = SubsetRandomSampler(train_indices)\n",
        "train_dl = DataLoader(datasets,batch_size, sampler = train_sampler)\n",
        "\n",
        "val_sampler = SubsetRandomSampler(val_indices)\n",
        "val_dl = DataLoader(datasets,batch_size, sampler = val_sampler)"
      ]
    },
    {
      "cell_type": "code",
      "execution_count": null,
      "metadata": {
        "id": "A3aBBahdjZXL"
      },
      "outputs": [],
      "source": [
        "from torchvision.utils import make_grid\n",
        "\n",
        "def show_batch(dl):\n",
        "  for images, labels in dl:\n",
        "    fig, ax = plt.subplots(figsize = (100,100))\n",
        "    ax.set_xticks([])\n",
        "    ax.set_yticks([])\n",
        "    ax.imshow(make_grid(images, 10).permute(1, 2, 0))\n",
        "    break"
      ]
    },
    {
      "cell_type": "code",
      "execution_count": null,
      "metadata": {
        "id": "7ksHbxtWkeYe"
      },
      "outputs": [],
      "source": [
        "# show_batch(train_dl)\n",
        "#stack expects each tensor to be equal size, but got [3, 352, 335] at entry 0 and [3, 405, 500] at entry 1\n",
        "#reshape all images to run this command"
      ]
    },
    {
      "cell_type": "code",
      "execution_count": null,
      "metadata": {
        "id": "jhmVqYwCjwW1"
      },
      "outputs": [],
      "source": [
        "# show_batch(val_dl)"
      ]
    },
    {
      "cell_type": "code",
      "execution_count": null,
      "metadata": {
        "id": "-vQjhJCxkiHv"
      },
      "outputs": [],
      "source": [
        "#?make_grid"
      ]
    },
    {
      "cell_type": "code",
      "execution_count": null,
      "metadata": {
        "id": "oPBiJEHq82MU"
      },
      "outputs": [],
      "source": [
        "import torch.nn as nn\n",
        "import torch.nn.functional as F"
      ]
    },
    {
      "cell_type": "code",
      "execution_count": null,
      "metadata": {
        "id": "KioqlU8r_nQ6",
        "colab": {
          "base_uri": "https://localhost:8080/",
          "height": 53
        },
        "outputId": "d306b228-a6b2-4b49-94ef-dbfd7511d2db"
      },
      "outputs": [
        {
          "output_type": "execute_result",
          "data": {
            "text/plain": [
              "'\\nsimple_model = nn.Sequential(\\n    nn.Conv2d(3, 64, kernel_size = 3, stride = 1, padding= 1),\\n    nn.MaxPool2d(2,2)\\n)\\n'"
            ],
            "application/vnd.google.colaboratory.intrinsic+json": {
              "type": "string"
            }
          },
          "metadata": {},
          "execution_count": 20
        }
      ],
      "source": [
        "'''\n",
        "simple_model = nn.Sequential(\n",
        "    nn.Conv2d(3, 64, kernel_size = 3, stride = 1, padding= 1),\n",
        "    nn.MaxPool2d(2,2)\n",
        ")\n",
        "'''"
      ]
    },
    {
      "cell_type": "code",
      "execution_count": null,
      "metadata": {
        "colab": {
          "base_uri": "https://localhost:8080/",
          "height": 53
        },
        "id": "YHirYg3A__cJ",
        "outputId": "ab73895c-b0bd-4c84-bcb2-b96ffdf4371b"
      },
      "outputs": [
        {
          "output_type": "execute_result",
          "data": {
            "text/plain": [
              "\"\\nfor images,labels in train_dl:\\n  print('images.shape:',images.shape)\\n  out = simple_model(images)\\n  print('out.shape:',out.shape)\\n  break\\n\""
            ],
            "application/vnd.google.colaboratory.intrinsic+json": {
              "type": "string"
            }
          },
          "metadata": {},
          "execution_count": 21
        }
      ],
      "source": [
        "'''\n",
        "for images,labels in train_dl:\n",
        "  print('images.shape:',images.shape)\n",
        "  out = simple_model(images)\n",
        "  print('out.shape:',out.shape)\n",
        "  break\n",
        "'''"
      ]
    },
    {
      "cell_type": "code",
      "execution_count": null,
      "metadata": {
        "id": "cix9Ae0WATkL"
      },
      "outputs": [],
      "source": [
        "# ?nn.Conv2d"
      ]
    },
    {
      "cell_type": "code",
      "execution_count": null,
      "metadata": {
        "colab": {
          "base_uri": "https://localhost:8080/",
          "height": 174
        },
        "id": "oZ59wCIphNZb",
        "outputId": "12d21c77-4264-447a-dfbd-1abe0b5fcbc3"
      },
      "outputs": [
        {
          "output_type": "execute_result",
          "data": {
            "text/plain": [
              "'\\nmodel = nn.Sequential(\\n    nn.Conv2d(3, 64, kernel_size = 3, stride = 1, padding= 0),\\n    nn.ReLU(),\\n    nn.MaxPool2d(2,2),   #output: bs x 64 x 128 x 128\\n\\n    #Activation function brings non linearity\\n\\n    nn.Conv2d(64, 64, kernel_size = 3, stride = 1, padding= 0),\\n    nn.ReLU(),\\n    nn.MaxPool2d(2,2),   #output: bs x 64 x 64 x 64\\n\\n\\n    nn.Conv2d(64, 64, kernel_size = 3, stride = 1, padding= 0),\\n    nn.ReLU(),\\n    nn.MaxPool2d(2,2),  #output: bs x 64 x 32 x 32\\n    \\n    nn.Conv2d(64, 128, kernel_size = 3, stride = 1, padding= 0),\\n    nn.ReLU(),\\n    nn.MaxPool2d(2,2),   #output: bs x 64 x 16 x 16\\n\\n    nn.Conv2d(128, 256, kernel_size = 3, stride = 1, padding= 0),\\n    nn.ReLU(),\\n    nn.MaxPool2d(2,2),   #output: bs x 64 x 8 x 8\\n\\n    nn.Conv2d(256, 512, kernel_size = 3, stride = 1, padding= 0),\\n    nn.ReLU(),\\n    nn.MaxPool2d(2,2),   #output: bs x 64 x 4 x 4\\n\\n    nn.Conv2d(512, 1024, kernel_size = 1, stride = 1, padding= 0),\\n    nn.ReLU(),\\n    nn.MaxPool2d(2,2),   #output: bs x 64 x 2 x 2\\n\\n    nn.Conv2d(1024, 2048, kernel_size = 1, stride = 1, padding= 0),\\n    nn.ReLU(),\\n    #nn.MaxPool2d(2,2),   #output: bs x 64 x 1 x 1\\n\\n    nn.Flatten(),\\n    #nn.Dropout(0.5),\\n    #nn.Dropout(0.5),\\n    nn.Linear(2048,2), #try with (64,2) we have 2 output\\n    \\n    \\n   \\n    # 10 or 1. 1 as we only need 1 output \\n   \\n)\\n'"
            ],
            "application/vnd.google.colaboratory.intrinsic+json": {
              "type": "string"
            }
          },
          "metadata": {},
          "execution_count": 23
        }
      ],
      "source": [
        "'''\n",
        "model = nn.Sequential(\n",
        "    nn.Conv2d(3, 64, kernel_size = 3, stride = 1, padding= 0),\n",
        "    nn.ReLU(),\n",
        "    nn.MaxPool2d(2,2),   #output: bs x 64 x 128 x 128\n",
        "\n",
        "    #Activation function brings non linearity\n",
        "\n",
        "    nn.Conv2d(64, 64, kernel_size = 3, stride = 1, padding= 0),\n",
        "    nn.ReLU(),\n",
        "    nn.MaxPool2d(2,2),   #output: bs x 64 x 64 x 64\n",
        "\n",
        "\n",
        "    nn.Conv2d(64, 64, kernel_size = 3, stride = 1, padding= 0),\n",
        "    nn.ReLU(),\n",
        "    nn.MaxPool2d(2,2),  #output: bs x 64 x 32 x 32\n",
        "    \n",
        "    nn.Conv2d(64, 128, kernel_size = 3, stride = 1, padding= 0),\n",
        "    nn.ReLU(),\n",
        "    nn.MaxPool2d(2,2),   #output: bs x 64 x 16 x 16\n",
        "\n",
        "    nn.Conv2d(128, 256, kernel_size = 3, stride = 1, padding= 0),\n",
        "    nn.ReLU(),\n",
        "    nn.MaxPool2d(2,2),   #output: bs x 64 x 8 x 8\n",
        "\n",
        "    nn.Conv2d(256, 512, kernel_size = 3, stride = 1, padding= 0),\n",
        "    nn.ReLU(),\n",
        "    nn.MaxPool2d(2,2),   #output: bs x 64 x 4 x 4\n",
        "\n",
        "    nn.Conv2d(512, 1024, kernel_size = 1, stride = 1, padding= 0),\n",
        "    nn.ReLU(),\n",
        "    nn.MaxPool2d(2,2),   #output: bs x 64 x 2 x 2\n",
        "\n",
        "    nn.Conv2d(1024, 2048, kernel_size = 1, stride = 1, padding= 0),\n",
        "    nn.ReLU(),\n",
        "    #nn.MaxPool2d(2,2),   #output: bs x 64 x 1 x 1\n",
        "\n",
        "    nn.Flatten(),\n",
        "    #nn.Dropout(0.5),\n",
        "    #nn.Dropout(0.5),\n",
        "    nn.Linear(2048,2), #try with (64,2) we have 2 output\n",
        "    \n",
        "    \n",
        "   \n",
        "    # 10 or 1. 1 as we only need 1 output \n",
        "   \n",
        ")\n",
        "'''"
      ]
    },
    {
      "cell_type": "code",
      "execution_count": null,
      "metadata": {
        "id": "S2P9euBdA2yl",
        "colab": {
          "base_uri": "https://localhost:8080/",
          "height": 174
        },
        "outputId": "493715c0-f1cb-49e2-99d1-63063dc3e849"
      },
      "outputs": [
        {
          "output_type": "execute_result",
          "data": {
            "text/plain": [
              "'\\nmodel = nn.Sequential(\\n    nn.Conv2d(3, 16, kernel_size = 3, stride = 1, padding= 1),\\n    nn.ReLU(),\\n    nn.MaxPool2d(2,2),   #output: bs x 16 x 16 x 16\\n\\n    #Activation function brings non linearity\\n\\n\\n    nn.Conv2d(16, 16, kernel_size = 3, stride = 1, padding= 1),\\n    nn.ReLU(),\\n    nn.MaxPool2d(2,2),  #output: bs x 16 x 8 x 8\\n\\n    nn.Conv2d(16, 16, kernel_size = 3, stride = 1, padding= 1),\\n    nn.ReLU(),\\n    nn.MaxPool2d(2,2),  #output: bs x 16 x 4 x 4\\n\\n    nn.Conv2d(16, 16, kernel_size = 3, stride = 1, padding= 1),\\n    nn.ReLU(),\\n    nn.MaxPool2d(2,2), #output: bs x 16 x 2 x 2\\n\\n    nn.Conv2d(16, 16, kernel_size = 3, stride = 1, padding= 1),\\n    nn.ReLU(),\\n    nn.MaxPool2d(2,2), #output: bs x 16 x 1 x 1\\n\\n    nn.Flatten(), # output: bs x 16\\n\\n\\n    nn.Dropout(0.5),\\n    nn.Linear(1024,256),\\n    nn.ReLU(inplace=True),\\n    nn.Dropout(0.5),\\n    nn.Linear(256,64), # output: bs X 1 \\n    nn.ReLU(inplace=True),\\n    nn.Linear(64,len(datasets.classes))\\n   \\n    # 10 or 2. 2 as we only need 2 output either CAT or DOG \\n   \\n)\\n'"
            ],
            "application/vnd.google.colaboratory.intrinsic+json": {
              "type": "string"
            }
          },
          "metadata": {},
          "execution_count": 24
        }
      ],
      "source": [
        "'''\n",
        "model = nn.Sequential(\n",
        "    nn.Conv2d(3, 16, kernel_size = 3, stride = 1, padding= 1),\n",
        "    nn.ReLU(),\n",
        "    nn.MaxPool2d(2,2),   #output: bs x 16 x 16 x 16\n",
        "\n",
        "    #Activation function brings non linearity\n",
        "\n",
        "\n",
        "    nn.Conv2d(16, 16, kernel_size = 3, stride = 1, padding= 1),\n",
        "    nn.ReLU(),\n",
        "    nn.MaxPool2d(2,2),  #output: bs x 16 x 8 x 8\n",
        "\n",
        "    nn.Conv2d(16, 16, kernel_size = 3, stride = 1, padding= 1),\n",
        "    nn.ReLU(),\n",
        "    nn.MaxPool2d(2,2),  #output: bs x 16 x 4 x 4\n",
        "\n",
        "    nn.Conv2d(16, 16, kernel_size = 3, stride = 1, padding= 1),\n",
        "    nn.ReLU(),\n",
        "    nn.MaxPool2d(2,2), #output: bs x 16 x 2 x 2\n",
        "\n",
        "    nn.Conv2d(16, 16, kernel_size = 3, stride = 1, padding= 1),\n",
        "    nn.ReLU(),\n",
        "    nn.MaxPool2d(2,2), #output: bs x 16 x 1 x 1\n",
        "\n",
        "    nn.Flatten(), # output: bs x 16\n",
        "\n",
        "\n",
        "    nn.Dropout(0.5),\n",
        "    nn.Linear(1024,256),\n",
        "    nn.ReLU(inplace=True),\n",
        "    nn.Dropout(0.5),\n",
        "    nn.Linear(256,64), # output: bs X 1 \n",
        "    nn.ReLU(inplace=True),\n",
        "    nn.Linear(64,len(datasets.classes))\n",
        "   \n",
        "    # 10 or 2. 2 as we only need 2 output either CAT or DOG \n",
        ")\n",
        "'''"
      ]
    },
    {
      "cell_type": "code",
      "source": [
        "# alexnet\n",
        "\n",
        "from torchvision import models\n",
        "#dir(models)  #all the pretrained models\n",
        "\n",
        "alexnet = models.alexnet(pretrained = True)\n",
        "alexnet"
      ],
      "metadata": {
        "colab": {
          "base_uri": "https://localhost:8080/"
        },
        "id": "ZdoLuzvWVNno",
        "outputId": "43d82e5b-6422-45ce-e022-321ecbf3191c"
      },
      "execution_count": null,
      "outputs": [
        {
          "output_type": "execute_result",
          "data": {
            "text/plain": [
              "AlexNet(\n",
              "  (features): Sequential(\n",
              "    (0): Conv2d(3, 64, kernel_size=(11, 11), stride=(4, 4), padding=(2, 2))\n",
              "    (1): ReLU(inplace=True)\n",
              "    (2): MaxPool2d(kernel_size=3, stride=2, padding=0, dilation=1, ceil_mode=False)\n",
              "    (3): Conv2d(64, 192, kernel_size=(5, 5), stride=(1, 1), padding=(2, 2))\n",
              "    (4): ReLU(inplace=True)\n",
              "    (5): MaxPool2d(kernel_size=3, stride=2, padding=0, dilation=1, ceil_mode=False)\n",
              "    (6): Conv2d(192, 384, kernel_size=(3, 3), stride=(1, 1), padding=(1, 1))\n",
              "    (7): ReLU(inplace=True)\n",
              "    (8): Conv2d(384, 256, kernel_size=(3, 3), stride=(1, 1), padding=(1, 1))\n",
              "    (9): ReLU(inplace=True)\n",
              "    (10): Conv2d(256, 256, kernel_size=(3, 3), stride=(1, 1), padding=(1, 1))\n",
              "    (11): ReLU(inplace=True)\n",
              "    (12): MaxPool2d(kernel_size=3, stride=2, padding=0, dilation=1, ceil_mode=False)\n",
              "  )\n",
              "  (avgpool): AdaptiveAvgPool2d(output_size=(6, 6))\n",
              "  (classifier): Sequential(\n",
              "    (0): Dropout(p=0.5, inplace=False)\n",
              "    (1): Linear(in_features=9216, out_features=4096, bias=True)\n",
              "    (2): ReLU(inplace=True)\n",
              "    (3): Dropout(p=0.5, inplace=False)\n",
              "    (4): Linear(in_features=4096, out_features=4096, bias=True)\n",
              "    (5): ReLU(inplace=True)\n",
              "    (6): Linear(in_features=4096, out_features=1000, bias=True)\n",
              "  )\n",
              ")"
            ]
          },
          "metadata": {},
          "execution_count": 25
        }
      ]
    },
    {
      "cell_type": "code",
      "source": [
        "model = nn.Sequential(\n",
        "    nn.Conv2d(3, 64, kernel_size=(11, 11), stride=(4, 4), padding=(2, 2)),\n",
        "    nn.ReLU(inplace=True),\n",
        "    nn.MaxPool2d(kernel_size=3, stride=2, padding=0, dilation=1, ceil_mode=False),\n",
        "\n",
        "\n",
        "    nn.Conv2d(64, 192, kernel_size=(5, 5), stride=(1, 1), padding=(2, 2)),\n",
        "    nn.ReLU(inplace=True),\n",
        "    nn.MaxPool2d(kernel_size=3, stride=2, padding=0, dilation=1, ceil_mode=False),\n",
        "\n",
        "    nn.Conv2d(192, 384, kernel_size=(3, 3), stride=(1, 1), padding=(1, 1)),\n",
        "    nn.ReLU(inplace=True),\n",
        "\n",
        "    nn.Conv2d(384, 256, kernel_size=(3, 3), stride=(1, 1), padding=(1, 1)),\n",
        "    nn.ReLU(inplace=True),\n",
        "\n",
        "    nn.Conv2d(256, 256, kernel_size=(3, 3), stride=(1, 1), padding=(1, 1)),\n",
        "    nn.ReLU(inplace=True),\n",
        "    nn.MaxPool2d(kernel_size=3, stride=2, padding=0, dilation=1, ceil_mode=False),\n",
        "\n",
        "    nn.AdaptiveAvgPool2d(output_size=(6, 6)),\n",
        "\n",
        "    nn.Flatten(),\n",
        "    nn.Dropout(p=0.5, inplace=False),\n",
        "    nn.Linear(in_features=9216, out_features=4096, bias=True),\n",
        "    nn.ReLU(inplace=True),\n",
        "    nn.Dropout(p=0.5, inplace=False),\n",
        "    nn.Linear(in_features=4096, out_features=1024, bias=True),\n",
        "    nn.ReLU(inplace=True),\n",
        "    nn.Linear(in_features=1024, out_features=2, bias=True)\n",
        "   \n",
        "    # 10 or 2. 2 as we only need 2 output either CAT or DOG \n",
        "   \n",
        ") # mat1 and mat2 shapes cannot be multiplied (98304x6 and 9216x4096)"
      ],
      "metadata": {
        "id": "KyPIMXkuXX1C"
      },
      "execution_count": null,
      "outputs": []
    },
    {
      "cell_type": "code",
      "execution_count": null,
      "metadata": {
        "colab": {
          "base_uri": "https://localhost:8080/"
        },
        "id": "8AMG1Vwih_3V",
        "outputId": "b5e7ac0d-0c00-400e-b412-85bb62fd1c25"
      },
      "outputs": [
        {
          "output_type": "execute_result",
          "data": {
            "text/plain": [
              "torch.Size([256, 256, 3, 3])"
            ]
          },
          "metadata": {},
          "execution_count": 27
        }
      ],
      "source": [
        "model[10].weight.shape"
      ]
    },
    {
      "cell_type": "code",
      "execution_count": null,
      "metadata": {
        "colab": {
          "base_uri": "https://localhost:8080/",
          "height": 53
        },
        "id": "uFfkUCqCxY2k",
        "outputId": "26f43b53-807f-40e6-cc7d-e7b721e199b7"
      },
      "outputs": [
        {
          "output_type": "execute_result",
          "data": {
            "text/plain": [
              "'\\nimport torch.quantization\\n\\nqat_model = torch.quantization.quantize_dynamic(\\n    model,\\n    {torch.nn.Linear},\\n    dtype = torch.qint8)\\n'"
            ],
            "application/vnd.google.colaboratory.intrinsic+json": {
              "type": "string"
            }
          },
          "metadata": {},
          "execution_count": 28
        }
      ],
      "source": [
        "'''\n",
        "import torch.quantization\n",
        "\n",
        "qat_model = torch.quantization.quantize_dynamic(\n",
        "    model,\n",
        "    {torch.nn.Linear},\n",
        "    dtype = torch.qint8)\n",
        "'''"
      ]
    },
    {
      "cell_type": "code",
      "execution_count": null,
      "metadata": {
        "colab": {
          "base_uri": "https://localhost:8080/",
          "height": 70
        },
        "id": "bD7nmGefXv7C",
        "outputId": "ee7b00ce-dc66-4efe-a477-f86a06cf9c03"
      },
      "outputs": [
        {
          "output_type": "execute_result",
          "data": {
            "text/plain": [
              "'\\ndef print_size_of_model(model, label = \"\"):\\n  torch.save(model.state_dict(),\"temp.p\")\\n  size = os.path.getsize(\"temp.p\")\\n  print(\"model:\",label,\\'\\t\\',\\'Size (KB):\\',size/1e3)\\n  os.remove(\\'temp.p\\')\\n  return size\\n\\nf = print_size_of_model(model,\"fp32\")\\nq = print_size_of_model(qat_model,\"int8\")\\n'"
            ],
            "application/vnd.google.colaboratory.intrinsic+json": {
              "type": "string"
            }
          },
          "metadata": {},
          "execution_count": 29
        }
      ],
      "source": [
        "'''\n",
        "def print_size_of_model(model, label = \"\"):\n",
        "  torch.save(model.state_dict(),\"temp.p\")\n",
        "  size = os.path.getsize(\"temp.p\")\n",
        "  print(\"model:\",label,'\\t','Size (KB):',size/1e3)\n",
        "  os.remove('temp.p')\n",
        "  return size\n",
        "\n",
        "f = print_size_of_model(model,\"fp32\")\n",
        "q = print_size_of_model(qat_model,\"int8\")\n",
        "'''"
      ]
    },
    {
      "cell_type": "code",
      "execution_count": null,
      "metadata": {
        "colab": {
          "base_uri": "https://localhost:8080/",
          "height": 87
        },
        "id": "mga7tRz9Cifx",
        "outputId": "e4a25945-c7dd-4aee-c9dd-e172ae367759"
      },
      "outputs": [
        {
          "output_type": "execute_result",
          "data": {
            "text/plain": [
              "'\\nimport torchvision \\n\\n# model = torchvision.models.quantization.mobilenet_v2(pretrained=True, quantize=True)\\n# model_no_quant = torchvision.models.mobilenet_v2(pretrained=True)\\n\\n\\ndef get_model_size(modl):\\n    torch.save(modl.state_dict(), \"demo.pt\")\\n    print(\"%.5f MB\" %(os.path.getsize(\"demo.pt\")/1e6))\\n\\n# os.remove(\\'demo.pt\\')\\nget_model_size(model)\\n\\n# get_model_size(model_no_quant)\\n'"
            ],
            "application/vnd.google.colaboratory.intrinsic+json": {
              "type": "string"
            }
          },
          "metadata": {},
          "execution_count": 30
        }
      ],
      "source": [
        "'''\n",
        "import torchvision \n",
        "\n",
        "# model = torchvision.models.quantization.mobilenet_v2(pretrained=True, quantize=True)\n",
        "# model_no_quant = torchvision.models.mobilenet_v2(pretrained=True)\n",
        "\n",
        "\n",
        "def get_model_size(modl):\n",
        "    torch.save(modl.state_dict(), \"demo.pt\")\n",
        "    print(\"%.5f MB\" %(os.path.getsize(\"demo.pt\")/1e6))\n",
        "\n",
        "# os.remove('demo.pt')\n",
        "get_model_size(model)\n",
        "\n",
        "# get_model_size(model_no_quant)\n",
        "'''"
      ]
    },
    {
      "cell_type": "code",
      "execution_count": null,
      "metadata": {
        "id": "SFF1hWUMolrF"
      },
      "outputs": [],
      "source": [
        "# def cal_Linear_input_val():\n",
        "#  (n+2*p-f)/s"
      ]
    },
    {
      "cell_type": "code",
      "execution_count": null,
      "metadata": {
        "id": "KbPVzOUkhsmt"
      },
      "outputs": [],
      "source": [
        "#model"
      ]
    },
    {
      "cell_type": "code",
      "execution_count": null,
      "metadata": {
        "colab": {
          "base_uri": "https://localhost:8080/",
          "height": 35
        },
        "id": "66YqX0MQBydU",
        "outputId": "d4a3b21f-c11e-4b26-eeab-738b3f44ba8d"
      },
      "outputs": [
        {
          "output_type": "execute_result",
          "data": {
            "text/plain": [
              "'\\nprint(model[12])\\nmodel[6].weight\\n\\nmodel[6].weight.shape # 0 is the layer number\\n'"
            ],
            "application/vnd.google.colaboratory.intrinsic+json": {
              "type": "string"
            }
          },
          "metadata": {},
          "execution_count": 33
        }
      ],
      "source": [
        "'''\n",
        "print(model[12])\n",
        "model[6].weight\n",
        "\n",
        "model[6].weight.shape # 0 is the layer number\n",
        "'''"
      ]
    },
    {
      "cell_type": "code",
      "execution_count": null,
      "metadata": {
        "colab": {
          "base_uri": "https://localhost:8080/",
          "height": 35
        },
        "id": "Mo9_JGyY33xh",
        "outputId": "a2da3568-6d9a-4a69-935b-aaa8b8fb20af"
      },
      "outputs": [
        {
          "output_type": "execute_result",
          "data": {
            "text/plain": [
              "'\\nif torch.cuda.is_available():\\n    model.cuda()\\n'"
            ],
            "application/vnd.google.colaboratory.intrinsic+json": {
              "type": "string"
            }
          },
          "metadata": {},
          "execution_count": 34
        }
      ],
      "source": [
        "'''\n",
        "if torch.cuda.is_available():\n",
        "    model.cuda()\n",
        "'''"
      ]
    },
    {
      "cell_type": "code",
      "execution_count": null,
      "metadata": {
        "colab": {
          "base_uri": "https://localhost:8080/"
        },
        "id": "s3WeAHjfETLo",
        "outputId": "d8ed8384-895a-49b3-9c2a-8699e147c817"
      },
      "outputs": [
        {
          "output_type": "stream",
          "name": "stdout",
          "text": [
            "images.shape: torch.Size([64, 3, 224, 224])\n",
            "out.shape: torch.Size([64, 2])\n",
            "out[0]: tensor([ 0.0147, -0.0171], grad_fn=<SelectBackward0>)\n"
          ]
        }
      ],
      "source": [
        "\n",
        "for images,labels in train_dl:\n",
        "  print('images.shape:',images.shape)\n",
        "  out = model(images)\n",
        "  print('out.shape:',out.shape)\n",
        "  print('out[0]:',out[0])\n",
        "  break\n"
      ]
    },
    {
      "cell_type": "code",
      "execution_count": null,
      "metadata": {
        "colab": {
          "base_uri": "https://localhost:8080/"
        },
        "id": "ZJguQXzBLavc",
        "outputId": "945fbda7-b7d4-49fe-9e9f-bf1eb32634b9"
      },
      "outputs": [
        {
          "output_type": "stream",
          "name": "stderr",
          "text": [
            "/usr/local/lib/python3.7/dist-packages/ipykernel_launcher.py:1: UserWarning: Implicit dimension choice for softmax has been deprecated. Change the call to include dim=X as an argument.\n",
            "  \"\"\"Entry point for launching an IPython kernel.\n"
          ]
        },
        {
          "output_type": "execute_result",
          "data": {
            "text/plain": [
              "tensor([0.5080, 0.4920], grad_fn=<SoftmaxBackward0>)"
            ]
          },
          "metadata": {},
          "execution_count": 36
        }
      ],
      "source": [
        "  F.softmax(out[0])"
      ]
    },
    {
      "cell_type": "code",
      "execution_count": null,
      "metadata": {
        "colab": {
          "base_uri": "https://localhost:8080/"
        },
        "id": "KhCbP-P6yP25",
        "outputId": "9a3d8485-35a5-473c-867b-c9e739a77624"
      },
      "outputs": [
        {
          "output_type": "stream",
          "name": "stdout",
          "text": [
            "tensor(1., grad_fn=<SumBackward0>)\n"
          ]
        },
        {
          "output_type": "execute_result",
          "data": {
            "text/plain": [
              "tensor(0.5080, grad_fn=<MaxBackward1>)"
            ]
          },
          "metadata": {},
          "execution_count": 37
        }
      ],
      "source": [
        "probs = F.softmax(out[0], dim = 0)\n",
        "torch.sum(probs), probs\n",
        "print(torch.sum(probs))\n",
        "torch.max(probs)"
      ]
    },
    {
      "cell_type": "code",
      "execution_count": null,
      "metadata": {
        "colab": {
          "base_uri": "https://localhost:8080/",
          "height": 321
        },
        "id": "zs20VQ4ryoUm",
        "outputId": "d0c7b76d-12fd-47c6-8f49-0083c01eacfc"
      },
      "outputs": [
        {
          "output_type": "stream",
          "name": "stdout",
          "text": [
            "CAT\n",
            "CAT\n",
            "Label:  CAT\n"
          ]
        },
        {
          "output_type": "display_data",
          "data": {
            "text/plain": [
              "<Figure size 432x288 with 1 Axes>"
            ],
            "image/png": "[encoded data removed]"
          },
          "metadata": {
            "needs_background": "light"
          }
        }
      ],
      "source": [
        "print(datasets.classes[labels[0]])\n",
        "print(datasets.classes[0])\n",
        "show_example(images[0], labels[0])"
      ]
    },
    {
      "cell_type": "code",
      "execution_count": null,
      "metadata": {
        "colab": {
          "base_uri": "https://localhost:8080/"
        },
        "id": "bg8ypS0MM6rz",
        "outputId": "60e3605b-2a78-46dc-94ea-22961614dbff"
      },
      "outputs": [
        {
          "output_type": "execute_result",
          "data": {
            "text/plain": [
              "['CAT', 'DOG']"
            ]
          },
          "metadata": {},
          "execution_count": 39
        }
      ],
      "source": [
        "datasets.classes"
      ]
    },
    {
      "cell_type": "code",
      "execution_count": null,
      "metadata": {
        "id": "KL4j849Q0Qtg"
      },
      "outputs": [],
      "source": [
        "def get_default_device():\n",
        "    \"\"\"Pick GPU if available, else CPU\"\"\"\n",
        "    if torch.cuda.is_available():\n",
        "        return torch.device('cuda')\n",
        "    else:\n",
        "        return torch.device('cpu')\n",
        "    \n",
        "def to_device(data, device):\n",
        "    \"\"\"Move tensor(s) to chosen device\"\"\"\n",
        "    if isinstance(data, (list,tuple)):\n",
        "        return [to_device(x, device) for x in data]\n",
        "    return data.to(device, non_blocking=True)\n",
        "\n",
        "class DeviceDataLoader():\n",
        "    \"\"\"Wrap a dataloader to move data to a device\"\"\"\n",
        "    def __init__(self, dl, device):\n",
        "        self.dl = dl\n",
        "        self.device = device\n",
        "        \n",
        "    def __iter__(self):\n",
        "        \"\"\"Yield a batch of data after moving it to device\"\"\"\n",
        "        for b in self.dl: \n",
        "            yield to_device(b, self.device)\n",
        "\n",
        "    def __len__(self):\n",
        "        \"\"\"Number of batches\"\"\"\n",
        "        return len(self.dl)"
      ]
    },
    {
      "cell_type": "code",
      "execution_count": null,
      "metadata": {
        "colab": {
          "base_uri": "https://localhost:8080/"
        },
        "id": "vb71PP9V0r0u",
        "outputId": "d07291aa-aaea-4a88-c306-b4a6ff32a63e"
      },
      "outputs": [
        {
          "output_type": "execute_result",
          "data": {
            "text/plain": [
              "device(type='cuda')"
            ]
          },
          "metadata": {},
          "execution_count": 41
        }
      ],
      "source": [
        "device = get_default_device()\n",
        "device"
      ]
    },
    {
      "cell_type": "code",
      "execution_count": null,
      "metadata": {
        "colab": {
          "base_uri": "https://localhost:8080/"
        },
        "id": "751EB_RqQRns",
        "outputId": "19aa3fbd-1e8a-4f3d-e3c4-ac708dc67353"
      },
      "outputs": [
        {
          "output_type": "execute_result",
          "data": {
            "text/plain": [
              "Sequential(\n",
              "  (0): Conv2d(3, 64, kernel_size=(11, 11), stride=(4, 4), padding=(2, 2))\n",
              "  (1): ReLU(inplace=True)\n",
              "  (2): MaxPool2d(kernel_size=3, stride=2, padding=0, dilation=1, ceil_mode=False)\n",
              "  (3): Conv2d(64, 192, kernel_size=(5, 5), stride=(1, 1), padding=(2, 2))\n",
              "  (4): ReLU(inplace=True)\n",
              "  (5): MaxPool2d(kernel_size=3, stride=2, padding=0, dilation=1, ceil_mode=False)\n",
              "  (6): Conv2d(192, 384, kernel_size=(3, 3), stride=(1, 1), padding=(1, 1))\n",
              "  (7): ReLU(inplace=True)\n",
              "  (8): Conv2d(384, 256, kernel_size=(3, 3), stride=(1, 1), padding=(1, 1))\n",
              "  (9): ReLU(inplace=True)\n",
              "  (10): Conv2d(256, 256, kernel_size=(3, 3), stride=(1, 1), padding=(1, 1))\n",
              "  (11): ReLU(inplace=True)\n",
              "  (12): MaxPool2d(kernel_size=3, stride=2, padding=0, dilation=1, ceil_mode=False)\n",
              "  (13): AdaptiveAvgPool2d(output_size=(6, 6))\n",
              "  (14): Flatten(start_dim=1, end_dim=-1)\n",
              "  (15): Dropout(p=0.5, inplace=False)\n",
              "  (16): Linear(in_features=9216, out_features=4096, bias=True)\n",
              "  (17): ReLU(inplace=True)\n",
              "  (18): Dropout(p=0.5, inplace=False)\n",
              "  (19): Linear(in_features=4096, out_features=1024, bias=True)\n",
              "  (20): ReLU(inplace=True)\n",
              "  (21): Linear(in_features=1024, out_features=2, bias=True)\n",
              ")"
            ]
          },
          "metadata": {},
          "execution_count": 42
        }
      ],
      "source": [
        "train_dl = DeviceDataLoader(train_dl,device)\n",
        "valid_dl = DeviceDataLoader(train_dl,device)\n",
        "to_device(model, device)"
      ]
    },
    {
      "cell_type": "code",
      "execution_count": null,
      "metadata": {
        "id": "5o0RLpQGSNYZ"
      },
      "outputs": [],
      "source": [
        "def loss_batch(model, loss_func, xb, yb, opt = None, metric = None):\n",
        "  #Generate predictions\n",
        "  preds = model(xb)\n",
        "  #Calculate loss\n",
        "  loss = loss_func(preds, yb)\n",
        "\n",
        "  if opt is not None:\n",
        "    # compute gradients\n",
        "    loss.backward()\n",
        "    # Update parameters\n",
        "    opt.step()\n",
        "    # Reset gradients\n",
        "    opt.zero_grad()\n",
        "\n",
        "  metric_result = None\n",
        "  if metric is not None:\n",
        "    # Compute the metric\n",
        "    metric_result = metric(preds, yb)\n",
        "\n",
        "  return loss.item(), len(xb), metric_result\n",
        "\n"
      ]
    },
    {
      "cell_type": "code",
      "execution_count": null,
      "metadata": {
        "id": "7wxMYYjdQmm1"
      },
      "outputs": [],
      "source": [
        " \n",
        "def evaluate(model, loss_fn, valid_dl, metric = None):\n",
        "  with torch.no_grad():\n",
        "    #pass each batch through the model\n",
        "    results = [loss_batch(model, loss_fn, xb, yb, metric = metric )\n",
        "                for xb,yb in valid_dl]\n",
        "\n",
        "    # Separate losses, counts and metrics\n",
        "    losses, nums, metrics = zip(*results)\n",
        "    #Total size of the dataset\n",
        "    total = np.sum(nums)\n",
        "    # Avg. loss across batches\n",
        "    avg_loss = np.sum(np.multiply(losses, nums))/ total\n",
        "    avg_metric = None\n",
        "    if metric is not None:\n",
        "      # Avg. of metric acriss batches\n",
        "      avg_metric = np.sum(np.multiply(metrics, nums)) / total\n",
        "\n",
        "  return avg_loss, total, avg_metric\n"
      ]
    },
    {
      "cell_type": "code",
      "execution_count": null,
      "metadata": {
        "colab": {
          "base_uri": "https://localhost:8080/",
          "height": 157
        },
        "id": "qDdshQtokCTj",
        "outputId": "74ea2e05-bc20-4664-ebb7-13379b1de5de"
      },
      "outputs": [
        {
          "output_type": "execute_result",
          "data": {
            "text/plain": [
              "\"\\n@torch.no_grad()\\ndef evaluate(model, val_loader):\\n    model.eval()\\n    outputs = [model.validation_step(batch) for batch in val_loader]\\n    return model.validation_epoch_end(outputs)\\n\\ndef fit(epochs, lr, model, train_loader, val_loader, opt_func=torch.optim.SGD):\\n    history = []\\n    optimizer = opt_func(model.parameters(), lr)\\n\\n\\n    for epoch in range(epochs):\\n        # Training Phase \\n        model.train()\\n        train_losses = []\\n        for batch in train_loader:\\n            loss = model.training_step(batch)\\n            train_losses.append(loss)\\n            loss.backward()\\n            optimizer.step()\\n            optimizer.zero_grad()\\n        # Validation phase\\n        result = evaluate(model, val_loader)\\n        result['train_loss'] = torch.stack(train_losses).mean().item()\\n        model.epoch_end(epoch, result)\\n        history.append(result)\\n    return history\\n\""
            ],
            "application/vnd.google.colaboratory.intrinsic+json": {
              "type": "string"
            }
          },
          "metadata": {},
          "execution_count": 45
        }
      ],
      "source": [
        "'''\n",
        "@torch.no_grad()\n",
        "def evaluate(model, val_loader):\n",
        "    model.eval()\n",
        "    outputs = [model.validation_step(batch) for batch in val_loader]\n",
        "    return model.validation_epoch_end(outputs)\n",
        "\n",
        "def fit(epochs, lr, model, train_loader, val_loader, opt_func=torch.optim.SGD):\n",
        "    history = []\n",
        "    optimizer = opt_func(model.parameters(), lr)\n",
        "\n",
        "\n",
        "    for epoch in range(epochs):\n",
        "        # Training Phase \n",
        "        model.train()\n",
        "        train_losses = []\n",
        "        for batch in train_loader:\n",
        "            loss = model.training_step(batch)\n",
        "            train_losses.append(loss)\n",
        "            loss.backward()\n",
        "            optimizer.step()\n",
        "            optimizer.zero_grad()\n",
        "        # Validation phase\n",
        "        result = evaluate(model, val_loader)\n",
        "        result['train_loss'] = torch.stack(train_losses).mean().item()\n",
        "        model.epoch_end(epoch, result)\n",
        "        history.append(result)\n",
        "    return history\n",
        "'''\n",
        "   "
      ]
    },
    {
      "cell_type": "code",
      "execution_count": null,
      "metadata": {
        "id": "XfYgqVrzMzEo"
      },
      "outputs": [],
      "source": [
        "\n",
        "def fit(epochs, model, loss_fn, train_dl, valid_dl,\n",
        "        opt_fn=None, lr = None, metric = None):\n",
        "  train_acc,train_losses, val_losses, val_metrics = [],[],[],[]\n",
        "\n",
        "  #Instantiate the optimizer\n",
        "  if opt_fn is None: opt_fn = torch.optim.SGD\n",
        "  opt = opt_fn(model.parameters(),lr = lr)\n",
        "\n",
        "  for epoch in range(epochs):\n",
        "    #training\n",
        "    model.train()\n",
        "    for xb,yb in train_dl:\n",
        "      train_loss,_,_ = loss_batch(model, loss_fn, xb,yb,opt)\n",
        "      train_result = evaluate(model, loss_fn, train_dl,metric)\n",
        "\n",
        "      #Evaluation\n",
        "      model.eval()\n",
        "      result = evaluate(model, loss_fn, valid_dl,metric)\n",
        "      val_loss, total, val_metric = result\n",
        "\n",
        "      # Record the loss & metric\n",
        "      train_losses.append(train_loss)\n",
        "      val_losses.append(val_loss)\n",
        "      val_metrics.append(val_metric)\n",
        "\n",
        "      #print progess\n",
        "      if metric is None:\n",
        "        print('Epoch [{}/{},train_loss: {:4f}, val_loss: {:.4f}'\n",
        "              .format(epoch+1, epochs, train_loss, val_loss))\n",
        "      else:\n",
        "        print('Epoch [{}/{}], train_loss: {:.4f}, val_loss: {:.4f}, val_{}: {:.4f}'\n",
        "              .format(epoch+1, epochs, train_loss, val_loss, metric.__name__, val_metric))\n",
        "        \n",
        "  return train_losses, val_losses, val_metrics\n",
        "\n"
      ]
    },
    {
      "cell_type": "code",
      "execution_count": null,
      "metadata": {
        "id": "VlVwrDdPZCxZ"
      },
      "outputs": [],
      "source": [
        "def accuracy(outputs, labels):\n",
        "  _, preds = torch.max(outputs, dim = 1)\n",
        "  return torch.sum(preds == labels).item() /len(preds)\n",
        "  #return torch.tensor(torch.sum(preds == labels).item() / len(preds))"
      ]
    },
    {
      "cell_type": "code",
      "execution_count": null,
      "metadata": {
        "colab": {
          "base_uri": "https://localhost:8080/"
        },
        "id": "19Q6NnsgZdmt",
        "outputId": "1dd927a0-88ba-4304-fabf-d3f3bb8a180c"
      },
      "outputs": [
        {
          "output_type": "stream",
          "name": "stderr",
          "text": [
            "/usr/local/lib/python3.7/dist-packages/PIL/TiffImagePlugin.py:770: UserWarning: Possibly corrupt EXIF data.  Expecting to read 32 bytes but only got 0. Skipping tag 270\n",
            "  \" Skipping tag %s\" % (size, len(data), tag)\n",
            "/usr/local/lib/python3.7/dist-packages/PIL/TiffImagePlugin.py:770: UserWarning: Possibly corrupt EXIF data.  Expecting to read 5 bytes but only got 0. Skipping tag 271\n",
            "  \" Skipping tag %s\" % (size, len(data), tag)\n",
            "/usr/local/lib/python3.7/dist-packages/PIL/TiffImagePlugin.py:770: UserWarning: Possibly corrupt EXIF data.  Expecting to read 8 bytes but only got 0. Skipping tag 272\n",
            "  \" Skipping tag %s\" % (size, len(data), tag)\n",
            "/usr/local/lib/python3.7/dist-packages/PIL/TiffImagePlugin.py:770: UserWarning: Possibly corrupt EXIF data.  Expecting to read 8 bytes but only got 0. Skipping tag 282\n",
            "  \" Skipping tag %s\" % (size, len(data), tag)\n",
            "/usr/local/lib/python3.7/dist-packages/PIL/TiffImagePlugin.py:770: UserWarning: Possibly corrupt EXIF data.  Expecting to read 8 bytes but only got 0. Skipping tag 283\n",
            "  \" Skipping tag %s\" % (size, len(data), tag)\n",
            "/usr/local/lib/python3.7/dist-packages/PIL/TiffImagePlugin.py:770: UserWarning: Possibly corrupt EXIF data.  Expecting to read 20 bytes but only got 0. Skipping tag 306\n",
            "  \" Skipping tag %s\" % (size, len(data), tag)\n",
            "/usr/local/lib/python3.7/dist-packages/PIL/TiffImagePlugin.py:770: UserWarning: Possibly corrupt EXIF data.  Expecting to read 48 bytes but only got 0. Skipping tag 532\n",
            "  \" Skipping tag %s\" % (size, len(data), tag)\n",
            "/usr/local/lib/python3.7/dist-packages/PIL/TiffImagePlugin.py:788: UserWarning: Corrupt EXIF data.  Expecting to read 2 bytes but only got 0. \n",
            "  warnings.warn(str(msg))\n"
          ]
        },
        {
          "output_type": "stream",
          "name": "stdout",
          "text": [
            "Loss: 0.6934, Accuracy: 0.4996\n"
          ]
        }
      ],
      "source": [
        "val_loss, _, val_acc = evaluate(model, F.cross_entropy, valid_dl, metric = accuracy)\n",
        "print('Loss: {:.4f}, Accuracy: {:.4f}'.format(val_loss,val_acc))"
      ]
    },
    {
      "cell_type": "code",
      "execution_count": null,
      "metadata": {
        "id": "6BkNGU36s0UJ"
      },
      "outputs": [],
      "source": [
        "num_epochs = 1\n",
        "opt_fn = torch.optim.Adam\n",
        "lr = 0.01"
      ]
    },
    {
      "cell_type": "code",
      "execution_count": null,
      "metadata": {
        "colab": {
          "base_uri": "https://localhost:8080/"
        },
        "id": "cnecKzc8tOi9",
        "outputId": "0549adaa-0d1b-445a-d37c-00bc97e52dba"
      },
      "outputs": [
        {
          "output_type": "stream",
          "name": "stderr",
          "text": [
            "/usr/local/lib/python3.7/dist-packages/PIL/TiffImagePlugin.py:770: UserWarning: Possibly corrupt EXIF data.  Expecting to read 32 bytes but only got 0. Skipping tag 270\n",
            "  \" Skipping tag %s\" % (size, len(data), tag)\n",
            "/usr/local/lib/python3.7/dist-packages/PIL/TiffImagePlugin.py:770: UserWarning: Possibly corrupt EXIF data.  Expecting to read 5 bytes but only got 0. Skipping tag 271\n",
            "  \" Skipping tag %s\" % (size, len(data), tag)\n",
            "/usr/local/lib/python3.7/dist-packages/PIL/TiffImagePlugin.py:770: UserWarning: Possibly corrupt EXIF data.  Expecting to read 8 bytes but only got 0. Skipping tag 272\n",
            "  \" Skipping tag %s\" % (size, len(data), tag)\n",
            "/usr/local/lib/python3.7/dist-packages/PIL/TiffImagePlugin.py:770: UserWarning: Possibly corrupt EXIF data.  Expecting to read 8 bytes but only got 0. Skipping tag 282\n",
            "  \" Skipping tag %s\" % (size, len(data), tag)\n",
            "/usr/local/lib/python3.7/dist-packages/PIL/TiffImagePlugin.py:770: UserWarning: Possibly corrupt EXIF data.  Expecting to read 8 bytes but only got 0. Skipping tag 283\n",
            "  \" Skipping tag %s\" % (size, len(data), tag)\n",
            "/usr/local/lib/python3.7/dist-packages/PIL/TiffImagePlugin.py:770: UserWarning: Possibly corrupt EXIF data.  Expecting to read 20 bytes but only got 0. Skipping tag 306\n",
            "  \" Skipping tag %s\" % (size, len(data), tag)\n",
            "/usr/local/lib/python3.7/dist-packages/PIL/TiffImagePlugin.py:770: UserWarning: Possibly corrupt EXIF data.  Expecting to read 48 bytes but only got 0. Skipping tag 532\n",
            "  \" Skipping tag %s\" % (size, len(data), tag)\n",
            "/usr/local/lib/python3.7/dist-packages/PIL/TiffImagePlugin.py:788: UserWarning: Corrupt EXIF data.  Expecting to read 2 bytes but only got 0. \n",
            "  warnings.warn(str(msg))\n"
          ]
        },
        {
          "output_type": "stream",
          "name": "stdout",
          "text": [
            "Epoch [1/1], train_loss: 0.6936, val_loss: 570675.9435, val_accuracy: 0.5004\n",
            "Epoch [1/1], train_loss: 520227.3750, val_loss: 336.6380, val_accuracy: 0.4996\n",
            "Epoch [1/1], train_loss: 312.1000, val_loss: 341.0049, val_accuracy: 0.4996\n",
            "Epoch [1/1], train_loss: 368.5327, val_loss: 20.8366, val_accuracy: 0.5004\n",
            "Epoch [1/1], train_loss: 20.6548, val_loss: 3206.5186, val_accuracy: 0.4996\n",
            "Epoch [1/1], train_loss: 2750.1084, val_loss: 42.8082, val_accuracy: 0.4996\n",
            "Epoch [1/1], train_loss: 30.2342, val_loss: 149.2448, val_accuracy: 0.4996\n",
            "Epoch [1/1], train_loss: 154.3058, val_loss: 1.2987, val_accuracy: 0.5004\n",
            "Epoch [1/1], train_loss: 0.9207, val_loss: 5425.1048, val_accuracy: 0.5004\n",
            "Epoch [1/1], train_loss: 5478.1509, val_loss: 32.2062, val_accuracy: 0.5004\n",
            "Epoch [1/1], train_loss: 30.4983, val_loss: 55.2741, val_accuracy: 0.4996\n",
            "Epoch [1/1], train_loss: 47.5405, val_loss: 3.2982, val_accuracy: 0.5004\n",
            "Epoch [1/1], train_loss: 2.8418, val_loss: 27.7768, val_accuracy: 0.4996\n",
            "Epoch [1/1], train_loss: 28.8741, val_loss: 11.6570, val_accuracy: 0.5004\n",
            "Epoch [1/1], train_loss: 10.9436, val_loss: 18.3879, val_accuracy: 0.5004\n",
            "Epoch [1/1], train_loss: 18.7945, val_loss: 14.8233, val_accuracy: 0.5002\n",
            "Epoch [1/1], train_loss: 12.0746, val_loss: 2455.8290, val_accuracy: 0.4997\n",
            "Epoch [1/1], train_loss: 2645.6489, val_loss: 39.5240, val_accuracy: 0.5004\n",
            "Epoch [1/1], train_loss: 38.2028, val_loss: 62.5976, val_accuracy: 0.5004\n",
            "Epoch [1/1], train_loss: 49.4294, val_loss: 60.8284, val_accuracy: 0.5004\n",
            "Epoch [1/1], train_loss: 62.7095, val_loss: 0.9058, val_accuracy: 0.5003\n",
            "Epoch [1/1], train_loss: 0.8878, val_loss: 47.2924, val_accuracy: 0.4996\n",
            "Epoch [1/1], train_loss: 37.4819, val_loss: 40.2085, val_accuracy: 0.4996\n",
            "Epoch [1/1], train_loss: 45.5496, val_loss: 29.9856, val_accuracy: 0.4996\n",
            "Epoch [1/1], train_loss: 31.3883, val_loss: 27.2802, val_accuracy: 0.4996\n",
            "Epoch [1/1], train_loss: 24.4687, val_loss: 17.4411, val_accuracy: 0.4996\n",
            "Epoch [1/1], train_loss: 18.8505, val_loss: 12.0316, val_accuracy: 0.4996\n",
            "Epoch [1/1], train_loss: 11.9052, val_loss: 7.4333, val_accuracy: 0.4996\n",
            "Epoch [1/1], train_loss: 8.1148, val_loss: 3.8902, val_accuracy: 0.4996\n",
            "Epoch [1/1], train_loss: 4.1240, val_loss: 0.9382, val_accuracy: 0.4996\n",
            "Epoch [1/1], train_loss: 0.8180, val_loss: 2.2379, val_accuracy: 0.5004\n",
            "Epoch [1/1], train_loss: 2.4674, val_loss: 2.1858, val_accuracy: 0.5025\n",
            "Epoch [1/1], train_loss: 2.4431, val_loss: 73.2916, val_accuracy: 0.4996\n",
            "Epoch [1/1], train_loss: 88.4451, val_loss: 19.1283, val_accuracy: 0.5004\n",
            "Epoch [1/1], train_loss: 17.8117, val_loss: 16.1581, val_accuracy: 0.5004\n",
            "Epoch [1/1], train_loss: 17.0134, val_loss: 13.1924, val_accuracy: 0.5004\n",
            "Epoch [1/1], train_loss: 12.3755, val_loss: 13.8830, val_accuracy: 0.5004\n",
            "Epoch [1/1], train_loss: 16.9318, val_loss: 13.6450, val_accuracy: 0.5004\n",
            "Epoch [1/1], train_loss: 14.9346, val_loss: 12.4239, val_accuracy: 0.5004\n",
            "Epoch [1/1], train_loss: 11.6553, val_loss: 10.4455, val_accuracy: 0.5004\n",
            "Epoch [1/1], train_loss: 10.7919, val_loss: 7.8211, val_accuracy: 0.5004\n",
            "Epoch [1/1], train_loss: 9.5377, val_loss: 4.9432, val_accuracy: 0.5004\n",
            "Epoch [1/1], train_loss: 4.1729, val_loss: 2.2387, val_accuracy: 0.5004\n",
            "Epoch [1/1], train_loss: 1.8213, val_loss: 0.9350, val_accuracy: 0.5004\n",
            "Epoch [1/1], train_loss: 0.8897, val_loss: 0.6966, val_accuracy: 0.5004\n",
            "Epoch [1/1], train_loss: 0.7016, val_loss: 0.7049, val_accuracy: 0.4996\n",
            "Epoch [1/1], train_loss: 0.7095, val_loss: 0.6996, val_accuracy: 0.4996\n",
            "Epoch [1/1], train_loss: 0.7031, val_loss: 0.7022, val_accuracy: 0.4996\n",
            "Epoch [1/1], train_loss: 0.7150, val_loss: 0.7044, val_accuracy: 0.4996\n",
            "Epoch [1/1], train_loss: 0.6572, val_loss: 0.7076, val_accuracy: 0.4996\n",
            "Epoch [1/1], train_loss: 0.7234, val_loss: 0.7097, val_accuracy: 0.4996\n",
            "Epoch [1/1], train_loss: 0.7039, val_loss: 0.7112, val_accuracy: 0.4996\n",
            "Epoch [1/1], train_loss: 0.7229, val_loss: 0.7113, val_accuracy: 0.4996\n",
            "Epoch [1/1], train_loss: 0.7290, val_loss: 0.7100, val_accuracy: 0.4996\n",
            "Epoch [1/1], train_loss: 0.6869, val_loss: 0.7087, val_accuracy: 0.4996\n",
            "Epoch [1/1], train_loss: 0.7416, val_loss: 0.7064, val_accuracy: 0.4996\n",
            "Epoch [1/1], train_loss: 0.7012, val_loss: 0.7048, val_accuracy: 0.4996\n"
          ]
        }
      ],
      "source": [
        "history = fit(num_epochs, model, F.cross_entropy,\n",
        "              train_dl, valid_dl, opt_fn, lr, accuracy)\n",
        "train_losses, val_losses, val_metrics = history"
      ]
    },
    {
      "cell_type": "code",
      "execution_count": null,
      "metadata": {
        "id": "dxoK0GVRuVX6"
      },
      "outputs": [],
      "source": [
        "def plot_metrics(metrics_values):\n",
        "  ''' Plot meetrics values in a line graph'''\n",
        "  plt.plot(metrics_values, '-x')\n",
        "  plt.xlabel('epoch')\n",
        "  plt.ylabel('accuracy')\n",
        "  plt.title('accuracy vs No. of epochs')"
      ]
    },
    {
      "cell_type": "code",
      "execution_count": null,
      "metadata": {
        "id": "FAv4aZFbvhvg"
      },
      "outputs": [],
      "source": [
        "plot_metrics([val_acc] + val_metrics)"
      ]
    },
    {
      "cell_type": "code",
      "execution_count": null,
      "metadata": {
        "id": "Ax21Tlv31Q1p"
      },
      "outputs": [],
      "source": [
        "def plot_losses(train_losses, val_losses):\n",
        "  plt.plot(train_losses, '-x')\n",
        "  plt.plot(val_losses, '-o')\n",
        "  plt.xlabel('epoch')\n",
        "  plt.ylabel('loss')\n",
        "  plt.legend(['Training','Validation'])\n",
        "  plt.title('Loss vs No. of epochs')"
      ]
    },
    {
      "cell_type": "code",
      "execution_count": null,
      "metadata": {
        "id": "W5J2djiM19kU"
      },
      "outputs": [],
      "source": [
        "plot_losses([None] + train_losses, [val_loss] + val_losses)"
      ]
    }
  ],
  "metadata": {
    "colab": {
      "collapsed_sections": [],
      "name": "pytorch_Cats&Dogs.ipynb",
      "provenance": [],
      "toc_visible": true,
      "mount_file_id": "1wmfLxo7l9isk4CMbK-TTAuIyRnGE34BV",
      "authorship_tag": "ABX9TyPQQ5szjDlnlcI6+Wve+Jf0",
      "include_colab_link": true
    },
    "kernelspec": {
      "display_name": "Python 3",
      "name": "python3"
    },
    "language_info": {
      "name": "python"
    },
    "accelerator": "GPU"
  },
  "nbformat": 4,
  "nbformat_minor": 0
}