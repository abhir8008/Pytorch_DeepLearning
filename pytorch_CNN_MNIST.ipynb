{
  "nbformat": 4,
  "nbformat_minor": 0,
  "metadata": {
    "colab": {
      "name": "pytorch_CNN_MNIST.ipynb",
      "provenance": [],
      "collapsed_sections": [],
      "authorship_tag": "ABX9TyODcfeCRRR/wSDDgix+0dJr",
      "include_colab_link": true
    },
    "kernelspec": {
      "name": "python3",
      "display_name": "Python 3"
    },
    "language_info": {
      "name": "python"
    }
  },
  "cells": [
    {
      "cell_type": "markdown",
      "metadata": {
        "id": "view-in-github",
        "colab_type": "text"
      },
      "source": [
        "<a href=\"https://colab.research.google.com/github/abhir8008/python-ds/blob/master/pytorch_CNN_MNIST.ipynb\" target=\"_parent\"><img src=\"https://colab.research.google.com/assets/colab-badge.svg\" alt=\"Open In Colab\"/></a>"
      ]
    },
    {
      "cell_type": "code",
      "execution_count": 36,
      "metadata": {
        "id": "e7o3ogWhF_aA"
      },
      "outputs": [],
      "source": [
        "import torch\n",
        "import torch.nn as nn\n",
        "import torch.nn.functional as F\n",
        "from torch.utils.data import DataLoader \n",
        "from torchvision import datasets, transforms\n",
        "from torchvision.utils import make_grid\n",
        "\n",
        "import numpy as np\n",
        "import pandas as pd\n",
        "from sklearn.metrics import confusion_matrix\n",
        "import matplotlib.pyplot as plt\n",
        "%matplotlib inline "
      ]
    },
    {
      "cell_type": "code",
      "source": [
        "transform = transforms.ToTensor()\n"
      ],
      "metadata": {
        "id": "APCDngTxHwMK"
      },
      "execution_count": 2,
      "outputs": []
    },
    {
      "cell_type": "code",
      "source": [
        "train_data = datasets.MNIST(root='../Data',train=True,download=True,transform=transform)"
      ],
      "metadata": {
        "id": "argTgNPzIZ_D"
      },
      "execution_count": 3,
      "outputs": []
    },
    {
      "cell_type": "code",
      "source": [
        "test_data = datasets.MNIST(root='../Data',train=False,download=True,transform=transform)"
      ],
      "metadata": {
        "id": "Lts8KtqUIzvV"
      },
      "execution_count": 4,
      "outputs": []
    },
    {
      "cell_type": "code",
      "source": [
        "train_data"
      ],
      "metadata": {
        "colab": {
          "base_uri": "https://localhost:8080/"
        },
        "id": "TEXjctrzI8Mo",
        "outputId": "b172b4d7-1150-42e7-8592-4dfda1481239"
      },
      "execution_count": 5,
      "outputs": [
        {
          "output_type": "execute_result",
          "data": {
            "text/plain": [
              "Dataset MNIST\n",
              "    Number of datapoints: 60000\n",
              "    Root location: ../Data\n",
              "    Split: Train\n",
              "    StandardTransform\n",
              "Transform: ToTensor()"
            ]
          },
          "metadata": {},
          "execution_count": 5
        }
      ]
    },
    {
      "cell_type": "code",
      "source": [
        "test_data"
      ],
      "metadata": {
        "colab": {
          "base_uri": "https://localhost:8080/"
        },
        "id": "1SP0InBvI-8_",
        "outputId": "66952b99-a237-4d92-ae62-1d7a648d1de2"
      },
      "execution_count": 6,
      "outputs": [
        {
          "output_type": "execute_result",
          "data": {
            "text/plain": [
              "Dataset MNIST\n",
              "    Number of datapoints: 10000\n",
              "    Root location: ../Data\n",
              "    Split: Test\n",
              "    StandardTransform\n",
              "Transform: ToTensor()"
            ]
          },
          "metadata": {},
          "execution_count": 6
        }
      ]
    },
    {
      "cell_type": "code",
      "source": [
        "train_loader = DataLoader(train_data,batch_size=10,shuffle=True)\n",
        "test_loader = DataLoader(test_data,batch_size=10,shuffle=False)"
      ],
      "metadata": {
        "id": "fdZS50-uJAgr"
      },
      "execution_count": 7,
      "outputs": []
    },
    {
      "cell_type": "code",
      "source": [
        "#1 colour channel, 6 filters(output Channels), 3by3 Kernel,stride=1\n",
        "conv1 = nn.Conv2d(1,6,3,1)\n",
        "\n",
        "#6 input filters conv1,16 filters, 3by3, stride=1\n",
        "conv2 = nn.Conv2d(6,16,3,1)"
      ],
      "metadata": {
        "id": "rxHlRpkMJ-uH"
      },
      "execution_count": 8,
      "outputs": []
    },
    {
      "cell_type": "code",
      "source": [
        "for i, (X_train,y_train) in enumerate(train_data):\n",
        "  break"
      ],
      "metadata": {
        "id": "4IcWxagWL56M"
      },
      "execution_count": 9,
      "outputs": []
    },
    {
      "cell_type": "code",
      "source": [
        "X_train.shape"
      ],
      "metadata": {
        "colab": {
          "base_uri": "https://localhost:8080/"
        },
        "id": "2XHBZ0AUMEJb",
        "outputId": "0df0a7b7-195f-4038-92c8-ae267997af76"
      },
      "execution_count": 10,
      "outputs": [
        {
          "output_type": "execute_result",
          "data": {
            "text/plain": [
              "torch.Size([1, 28, 28])"
            ]
          },
          "metadata": {},
          "execution_count": 10
        }
      ]
    },
    {
      "cell_type": "code",
      "source": [
        "x=X_train.view(1,1,28,28) # 4D batch (batch of 1 image)"
      ],
      "metadata": {
        "id": "IHQfqLR-MKAV"
      },
      "execution_count": 11,
      "outputs": []
    },
    {
      "cell_type": "code",
      "source": [
        "x = F.relu(conv1(x))"
      ],
      "metadata": {
        "id": "yxTXoUvjNenC"
      },
      "execution_count": 12,
      "outputs": []
    },
    {
      "cell_type": "code",
      "source": [
        "x.shape #no information on boader so no padding i.e, 28 to 26"
      ],
      "metadata": {
        "colab": {
          "base_uri": "https://localhost:8080/"
        },
        "id": "bexg81uxNhtf",
        "outputId": "726d2b7f-65cd-4db5-f475-5e099b52676d"
      },
      "execution_count": 13,
      "outputs": [
        {
          "output_type": "execute_result",
          "data": {
            "text/plain": [
              "torch.Size([1, 6, 26, 26])"
            ]
          },
          "metadata": {},
          "execution_count": 13
        }
      ]
    },
    {
      "cell_type": "code",
      "source": [
        "x = F.max_pool2d(x,2,2)"
      ],
      "metadata": {
        "id": "hSUKOUYmN2ap"
      },
      "execution_count": 14,
      "outputs": []
    },
    {
      "cell_type": "code",
      "source": [
        "x.shape #devide by 2, i.e, 26 to 13"
      ],
      "metadata": {
        "colab": {
          "base_uri": "https://localhost:8080/"
        },
        "id": "D9g7UPa_P0yG",
        "outputId": "9e90ea0d-d0e9-47d8-8518-0d1abe6c6b27"
      },
      "execution_count": 15,
      "outputs": [
        {
          "output_type": "execute_result",
          "data": {
            "text/plain": [
              "torch.Size([1, 6, 13, 13])"
            ]
          },
          "metadata": {},
          "execution_count": 15
        }
      ]
    },
    {
      "cell_type": "code",
      "source": [
        "x = F.relu(conv2(x))"
      ],
      "metadata": {
        "id": "qGc6_8B9P6M4"
      },
      "execution_count": 16,
      "outputs": []
    },
    {
      "cell_type": "code",
      "source": [
        "x.shape"
      ],
      "metadata": {
        "colab": {
          "base_uri": "https://localhost:8080/"
        },
        "id": "fvTpMvv4QQAI",
        "outputId": "f0b08231-1915-4f5f-ccc6-d4d47b1f0dfe"
      },
      "execution_count": 17,
      "outputs": [
        {
          "output_type": "execute_result",
          "data": {
            "text/plain": [
              "torch.Size([1, 16, 11, 11])"
            ]
          },
          "metadata": {},
          "execution_count": 17
        }
      ]
    },
    {
      "cell_type": "code",
      "source": [
        "x = F.max_pool2d(x,2,2)"
      ],
      "metadata": {
        "id": "CWYnbpTNQRES"
      },
      "execution_count": 18,
      "outputs": []
    },
    {
      "cell_type": "code",
      "source": [
        "x.shape"
      ],
      "metadata": {
        "colab": {
          "base_uri": "https://localhost:8080/"
        },
        "id": "hld81FRpQZRL",
        "outputId": "0f28dfa3-cbe8-4652-d847-2cf05ba202f2"
      },
      "execution_count": 19,
      "outputs": [
        {
          "output_type": "execute_result",
          "data": {
            "text/plain": [
              "torch.Size([1, 16, 5, 5])"
            ]
          },
          "metadata": {},
          "execution_count": 19
        }
      ]
    },
    {
      "cell_type": "code",
      "source": [
        "x.view(-1,16*5*5).shape #flat layer -1 means keep the first dimension"
      ],
      "metadata": {
        "colab": {
          "base_uri": "https://localhost:8080/"
        },
        "id": "CcQvE7c0Qagb",
        "outputId": "4f66e7c6-7ae8-464a-90bc-11c487102ee2"
      },
      "execution_count": 20,
      "outputs": [
        {
          "output_type": "execute_result",
          "data": {
            "text/plain": [
              "torch.Size([1, 400])"
            ]
          },
          "metadata": {},
          "execution_count": 20
        }
      ]
    },
    {
      "cell_type": "markdown",
      "source": [
        "## Model and Training"
      ],
      "metadata": {
        "id": "jdeMFeaDSi-H"
      }
    },
    {
      "cell_type": "code",
      "source": [
        "class ConvolutionalNetwork(nn.Module):\n",
        "\n",
        "  def __init__(self):\n",
        "    super().__init__()\n",
        "    self.conv1 = nn.Conv2d(1,6,3,1)\n",
        "    self.conv2 = nn.Conv2d(6,16,3,1)\n",
        "    self.fc1 = nn.Linear(5*5*16,120) # calculate by yourself\n",
        "    self.fc2 = nn.Linear(120,84)\n",
        "    self.fc3 = nn.Linear(84,10) #10 classes as output\n",
        "\n",
        "  def forward(self,X):  # for activation function and pooling\n",
        "    X = F.relu(self.conv1(X))\n",
        "    X = F.max_pool2d(X,2,2)\n",
        "    X = F.relu(self.conv2(X))\n",
        "    X = F.max_pool2d(X,2,2)\n",
        "    X = X.view(-1,16*5*5)\n",
        "    X = F.relu(self.fc1(X))\n",
        "    X = F.relu(self.fc2(X))\n",
        "    X = self.fc3(X)         # no activation as last layer\n",
        "    return F.log_softmax(X,dim=1)"
      ],
      "metadata": {
        "id": "xL7TYVCoSopS"
      },
      "execution_count": 21,
      "outputs": []
    },
    {
      "cell_type": "code",
      "source": [
        "torch.manual_seed(42)\n",
        "model = ConvolutionalNetwork()\n",
        "model"
      ],
      "metadata": {
        "colab": {
          "base_uri": "https://localhost:8080/"
        },
        "id": "EvEk1wTPcVlW",
        "outputId": "c76e1bad-8cb4-47b8-fd5e-4c0600b65059"
      },
      "execution_count": 22,
      "outputs": [
        {
          "output_type": "execute_result",
          "data": {
            "text/plain": [
              "ConvolutionalNetwork(\n",
              "  (conv1): Conv2d(1, 6, kernel_size=(3, 3), stride=(1, 1))\n",
              "  (conv2): Conv2d(6, 16, kernel_size=(3, 3), stride=(1, 1))\n",
              "  (fc1): Linear(in_features=400, out_features=120, bias=True)\n",
              "  (fc2): Linear(in_features=120, out_features=84, bias=True)\n",
              "  (fc3): Linear(in_features=84, out_features=10, bias=True)\n",
              ")"
            ]
          },
          "metadata": {},
          "execution_count": 22
        }
      ]
    },
    {
      "cell_type": "code",
      "source": [
        "for param in model.parameters():\n",
        "  print(param.numel())"
      ],
      "metadata": {
        "colab": {
          "base_uri": "https://localhost:8080/"
        },
        "id": "tj1CGBqEch6G",
        "outputId": "e9c69de5-b7a8-455d-c3a1-a7e7efe6d63c"
      },
      "execution_count": 23,
      "outputs": [
        {
          "output_type": "stream",
          "name": "stdout",
          "text": [
            "54\n",
            "6\n",
            "864\n",
            "16\n",
            "48000\n",
            "120\n",
            "10080\n",
            "84\n",
            "840\n",
            "10\n"
          ]
        }
      ]
    },
    {
      "cell_type": "code",
      "source": [
        "criterion = nn.CrossEntropyLoss()\n",
        "optimizer = torch.optim.Adam(model.parameters(),lr=0.001)"
      ],
      "metadata": {
        "id": "QOMmucmPfGN9"
      },
      "execution_count": 24,
      "outputs": []
    },
    {
      "cell_type": "code",
      "source": [
        "import time\n",
        "start_time = time.time()\n",
        "\n",
        "# Variables Tracker\n",
        "epochs = 5\n",
        "train_losses = []\n",
        "test_losses = []\n",
        "train_correct = []\n",
        "test_correct = []\n",
        "\n",
        "#For Loop Epoches\n",
        "for i in range(epochs):\n",
        "\n",
        "  trn_corr = 0\n",
        "  tst_corr = 0\n",
        "  # Train\n",
        "  for b,(X_train,y_train) in enumerate(train_loader):\n",
        "    b+=1\n",
        "    y_pred = model(X_train)\n",
        "    loss = criterion(y_pred,y_train) # y_prediction or y_training k bech me matching\n",
        "\n",
        "    predicted = torch.max(y_pred.data,1)[1]\n",
        "    batch_corr = (predicted == y_train).sum() #True 1/False 0 sum()\n",
        "    trn_corr += batch_corr\n",
        "\n",
        "    optimizer.zero_grad()\n",
        "    loss.backward()\n",
        "    optimizer.step()\n",
        "\n",
        "    if b%600 ==0:\n",
        "      print(f\"EPOCH: {i} BATCH {b} LOSS: {loss.item()} \")\n",
        "\n",
        "  train_losses.append(loss)\n",
        "  train_correct.append(trn_corr)\n",
        "\n",
        "\n",
        "    # Test\n",
        "  with torch.no_grad():\n",
        "    for b,(X_test,y_test) in enumerate(test_loader):\n",
        "\n",
        "      y_val = model(X_test)\n",
        "\n",
        "      predicted = torch.max(y_val.data,1)[1]\n",
        "      tst_corr += (predicted == y_test).sum()\n",
        "  loss = criterion(y_val,y_test)\n",
        "  test_losses.append(loss)\n",
        "  test_correct.append(tst_corr)\n",
        "  print(f'Test accuracy: {tst_corr.item()}/{len(test_data)} = {tst_corr.item()*100/(len(test_data)):7.3f}%')\n",
        "\n",
        "current_time = time.time()\n",
        "total = current_time - start_time\n",
        "print(f\"Training took {total/60} minutes\")"
      ],
      "metadata": {
        "colab": {
          "base_uri": "https://localhost:8080/"
        },
        "id": "1dsb6jsBgk51",
        "outputId": "09aa2deb-a47e-4568-d652-006a48eecdb6"
      },
      "execution_count": 25,
      "outputs": [
        {
          "output_type": "stream",
          "name": "stdout",
          "text": [
            "EPOCH: 0 BATCH 600 LOSS: 0.04055628925561905 \n",
            "EPOCH: 0 BATCH 1200 LOSS: 0.08253471553325653 \n",
            "EPOCH: 0 BATCH 1800 LOSS: 0.3642270863056183 \n",
            "EPOCH: 0 BATCH 2400 LOSS: 0.018563730642199516 \n",
            "EPOCH: 0 BATCH 3000 LOSS: 0.008377513848245144 \n",
            "EPOCH: 0 BATCH 3600 LOSS: 0.0024234906304627657 \n",
            "EPOCH: 0 BATCH 4200 LOSS: 0.5999211072921753 \n",
            "EPOCH: 0 BATCH 4800 LOSS: 0.022017866373062134 \n",
            "EPOCH: 0 BATCH 5400 LOSS: 0.0071049341931939125 \n",
            "EPOCH: 0 BATCH 6000 LOSS: 0.0580391064286232 \n",
            "Test accuracy: 9769/10000 =  97.690%\n",
            "EPOCH: 1 BATCH 600 LOSS: 0.012966835871338844 \n",
            "EPOCH: 1 BATCH 1200 LOSS: 0.04782690852880478 \n",
            "EPOCH: 1 BATCH 1800 LOSS: 0.0013526796828955412 \n",
            "EPOCH: 1 BATCH 2400 LOSS: 0.022652272135019302 \n",
            "EPOCH: 1 BATCH 3000 LOSS: 0.4363284707069397 \n",
            "EPOCH: 1 BATCH 3600 LOSS: 0.000980690005235374 \n",
            "EPOCH: 1 BATCH 4200 LOSS: 0.0007406159420497715 \n",
            "EPOCH: 1 BATCH 4800 LOSS: 0.0005820695078000426 \n",
            "EPOCH: 1 BATCH 5400 LOSS: 0.00035533643676899374 \n",
            "EPOCH: 1 BATCH 6000 LOSS: 0.015377162024378777 \n",
            "Test accuracy: 9787/10000 =  97.870%\n",
            "EPOCH: 2 BATCH 600 LOSS: 0.0010052670259028673 \n",
            "EPOCH: 2 BATCH 1200 LOSS: 0.0022917981259524822 \n",
            "EPOCH: 2 BATCH 1800 LOSS: 0.001994095975533128 \n",
            "EPOCH: 2 BATCH 2400 LOSS: 0.0008321700734086335 \n",
            "EPOCH: 2 BATCH 3000 LOSS: 0.19161361455917358 \n",
            "EPOCH: 2 BATCH 3600 LOSS: 0.01101936586201191 \n",
            "EPOCH: 2 BATCH 4200 LOSS: 0.03428944945335388 \n",
            "EPOCH: 2 BATCH 4800 LOSS: 0.009587411768734455 \n",
            "EPOCH: 2 BATCH 5400 LOSS: 0.00016583567776251584 \n",
            "EPOCH: 2 BATCH 6000 LOSS: 0.0003591519489418715 \n",
            "Test accuracy: 9776/10000 =  97.760%\n",
            "EPOCH: 3 BATCH 600 LOSS: 0.0003842592122964561 \n",
            "EPOCH: 3 BATCH 1200 LOSS: 0.0005566769395954907 \n",
            "EPOCH: 3 BATCH 1800 LOSS: 0.00029192649526521564 \n",
            "EPOCH: 3 BATCH 2400 LOSS: 0.0003002156154252589 \n",
            "EPOCH: 3 BATCH 3000 LOSS: 0.044092997908592224 \n",
            "EPOCH: 3 BATCH 3600 LOSS: 0.001198124373331666 \n",
            "EPOCH: 3 BATCH 4200 LOSS: 0.0023149685002863407 \n",
            "EPOCH: 3 BATCH 4800 LOSS: 0.006314367055892944 \n",
            "EPOCH: 3 BATCH 5400 LOSS: 0.003148504300042987 \n",
            "EPOCH: 3 BATCH 6000 LOSS: 0.0013649329775944352 \n",
            "Test accuracy: 9885/10000 =  98.850%\n",
            "EPOCH: 4 BATCH 600 LOSS: 0.0016961991786956787 \n",
            "EPOCH: 4 BATCH 1200 LOSS: 0.08600857108831406 \n",
            "EPOCH: 4 BATCH 1800 LOSS: 0.00014799140626564622 \n",
            "EPOCH: 4 BATCH 2400 LOSS: 7.2358898250968195e-06 \n",
            "EPOCH: 4 BATCH 3000 LOSS: 0.0069040777161717415 \n",
            "EPOCH: 4 BATCH 3600 LOSS: 0.0063855512998998165 \n",
            "EPOCH: 4 BATCH 4200 LOSS: 2.4400029360549524e-05 \n",
            "EPOCH: 4 BATCH 4800 LOSS: 0.0016736710676923394 \n",
            "EPOCH: 4 BATCH 5400 LOSS: 0.00033798260847106576 \n",
            "EPOCH: 4 BATCH 6000 LOSS: 0.0003395003732293844 \n",
            "Test accuracy: 9870/10000 =  98.700%\n",
            "Training took 3.129616884390513 minutes\n"
          ]
        }
      ]
    },
    {
      "cell_type": "code",
      "source": [
        "'''\n",
        "plt.plot(train_losses,label=\"train_losses\")\n",
        "plt.plot(test_losses,label='validation_loss')\n",
        "plt.title('Loss at epoches')\n",
        "plt.legend()\n",
        "'''"
      ],
      "metadata": {
        "colab": {
          "base_uri": "https://localhost:8080/",
          "height": 35
        },
        "id": "mXTy68vyUBID",
        "outputId": "b16bb978-20cf-4747-a585-e22700fe0747"
      },
      "execution_count": 30,
      "outputs": [
        {
          "output_type": "execute_result",
          "data": {
            "text/plain": [
              "'\\nplt.plot(train_losses,label=\"train_losses\")\\nplt.plot(test_losses,label=\\'validation_loss\\')\\nplt.title(\\'Loss at epoches\\')\\nplt.legend()\\n'"
            ],
            "application/vnd.google.colaboratory.intrinsic+json": {
              "type": "string"
            }
          },
          "metadata": {},
          "execution_count": 30
        }
      ]
    },
    {
      "cell_type": "code",
      "source": [
        "plt.plot([t/600 for t in train_correct],label=\"train_losses\")\n",
        "plt.plot([t/100 for t in test_correct],label='validation_loss')\n",
        "plt.title('Accuracy at the end of each epoch')\n",
        "plt.legend()"
      ],
      "metadata": {
        "colab": {
          "base_uri": "https://localhost:8080/",
          "height": 298
        },
        "id": "Z2zqDGidVtNK",
        "outputId": "a0007c22-e358-44b6-833b-c617809bc448"
      },
      "execution_count": 31,
      "outputs": [
        {
          "output_type": "execute_result",
          "data": {
            "text/plain": [
              "<matplotlib.legend.Legend at 0x7f79ed99c8d0>"
            ]
          },
          "metadata": {},
          "execution_count": 31
        },
        {
          "output_type": "display_data",
          "data": {
            "text/plain": [
              "<Figure size 432x288 with 1 Axes>"
            ],
            "image/png": "[encoded data removed]"
          },
          "metadata": {
            "needs_background": "light"
          }
        }
      ]
    },
    {
      "cell_type": "code",
      "source": [
        "test_load_all = DataLoader(test_data, batch_size=10000, shuffle=False)"
      ],
      "metadata": {
        "id": "htMpGho8jZnb"
      },
      "execution_count": 32,
      "outputs": []
    },
    {
      "cell_type": "code",
      "source": [
        "with torch.no_grad():\n",
        "    correct = 0\n",
        "    for X_test, y_test in test_load_all:\n",
        "        y_val = model(X_test)  # we don't flatten the data this time\n",
        "        predicted = torch.max(y_val,1)[1]\n",
        "        correct += (predicted == y_test).sum()\n",
        "print(f'Test accuracy: {correct.item()}/{len(test_data)} = {correct.item()*100/(len(test_data)):7.3f}%')"
      ],
      "metadata": {
        "colab": {
          "base_uri": "https://localhost:8080/"
        },
        "id": "2ntX5eICjdB3",
        "outputId": "0f37aa3f-bdf8-428a-b5ec-5bfacd9fafbc"
      },
      "execution_count": 33,
      "outputs": [
        {
          "output_type": "stream",
          "name": "stdout",
          "text": [
            "Test accuracy: 9870/10000 =  98.700%\n"
          ]
        }
      ]
    },
    {
      "cell_type": "code",
      "source": [
        ""
      ],
      "metadata": {
        "id": "GQKNJ0Rsjf4o"
      },
      "execution_count": 29,
      "outputs": []
    }
  ]
}